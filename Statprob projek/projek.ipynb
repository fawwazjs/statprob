{
 "cells": [
  {
   "cell_type": "markdown",
   "metadata": {},
   "source": [
    "Nama Kelompok\n",
    "* Ahmad Wildan Fawwaz | 5027241001\n",
    "* Bayu Kurniawan | 5027241055\n",
    "* Muhammad Ardiansyah Tri Wibowo | 5027241091\n",
    "* Naufal Ardhana | 5027241118"
   ]
  },
  {
   "cell_type": "code",
   "execution_count": null,
   "metadata": {},
   "outputs": [],
   "source": [
    "import pandas as pd\n",
    "import matplotlib.pyplot as plt\n",
    "import numpy as np\n",
    "import tabulate as tblt\n",
    "\n",
    "data = pd.read_excel(\"/content/Dataset.xlsx\")\n",
    "data.columns = ['Tanggal', 'Curah Hujan', 'Penjualan A', 'Penjualan B']\n",
    "data.head()"
   ]
  },
  {
   "cell_type": "code",
   "execution_count": null,
   "metadata": {},
   "outputs": [],
   "source": [
    "\n",
    "mean = data.drop(columns=['Tanggal']).mean()\n",
    "median = data.drop(columns=['Tanggal']).median()\n",
    "mode = data.drop(columns=['Tanggal']).mode()\n",
    "data_range_atas = data.drop(columns=['Tanggal']).max()\n",
    "data_range_bawah = data.drop(columns=['Tanggal']).min()\n",
    "data_range_fix = data.drop(columns=['Tanggal']).max() - data.drop(columns=['Tanggal']).min()\n",
    "iqr = data.drop(columns=['Tanggal']).quantile(0.75) - data.drop(columns=['Tanggal']).quantile(0.25)\n",
    "variance = data.drop(columns=['Tanggal']).var()\n",
    "std_dev = data.drop(columns=['Tanggal']).std()\n",
    "skewness = data.drop(columns=['Tanggal']).skew()\n",
    "kurtosis = data.drop(columns=['Tanggal']).kurtosis()\n",
    "\n",
    "\n",
    "print(\"Mean:\\n\", mean.to_string(), \"\\n\")\n",
    "print(\"Median:\\n\", median.to_string(), \"\\n\")\n",
    "print(\"Modus:\\n\", mode.to_string(), \"\\n\")\n",
    "print(\"Range:\\n\", data_range_atas.to_string(),\"\\n\",data_range_bawah.to_string(),\"\\n\\n\",\"Maka Rangenya adalah:\\n\", data_range_fix.to_string(), \"\\n\")\n",
    "print(\"IQR:\\n\", iqr.to_string(), \"\\n\")\n",
    "print(\"Variance:\\n\", variance.to_string(), \"\\n\")\n",
    "print(\"Standard Deviation:\\n\", std_dev.to_string(), \"\\n\")\n",
    "print(\"Skewness:\\n\", skewness.to_string(), \"\\n\")\n",
    "print(\"Kurtosis:\\n\", kurtosis.to_string(), \"\\n\")"
   ]
  },
  {
   "cell_type": "markdown",
   "metadata": {},
   "source": [
    "#Visualisasi Data\n",
    "____"
   ]
  },
  {
   "cell_type": "code",
   "execution_count": null,
   "metadata": {},
   "outputs": [],
   "source": [
    "interval_bins = np.arange(0, data['Penjualan B'].max() + 25, 25)\n",
    "freq_penjualan_a_interval = pd.cut(data['Penjualan A'], bins=interval_bins).value_counts().sort_index()\n",
    "\n",
    "freq_penjualan_b_interval = pd.cut(data['Penjualan B'], bins=interval_bins).value_counts().sort_index()\n",
    "\n",
    "freq_penjualan = pd.DataFrame({\n",
    "    'Interval': freq_penjualan_a_interval.index,\n",
    "    'Frekuensi Penjualan A': freq_penjualan_a_interval.values,\n",
    "    'Frekuensi Penjualan B': freq_penjualan_b_interval.values\n",
    "})\n",
    "\n",
    "print(\"Tabel Frekuensi Penjualan:\\n\", tblt.tabulate(freq_penjualan, headers='keys', tablefmt='grid'), \"\\n\")\n",
    "\n",
    "curah_hujan_bins = np.arange(0, data['Curah Hujan'].max() + 20, 20)\n",
    "freq_curah_hujan_interval = pd.cut(data['Curah Hujan'], bins=curah_hujan_bins).value_counts().sort_index()\n",
    "\n",
    "freq_curah_hujan = pd.DataFrame({\n",
    "    'Interval': freq_curah_hujan_interval.index,\n",
    "    'Frekuensi Curah Hujan': freq_curah_hujan_interval.values\n",
    "})\n",
    "\n",
    "print(\"Tabel Frekuensi Curah Hujan:\\n\", tblt.tabulate(freq_curah_hujan, headers='keys', tablefmt='grid'), \"\\n\")"
   ]
  },
  {
   "cell_type": "code",
   "execution_count": null,
   "metadata": {},
   "outputs": [],
   "source": [
    "plt.figure(figsize=(20,10))\n",
    "plt.subplot(1,3,1)\n",
    "plt.hist(data['Penjualan A'], bins=interval_bins, color='skyblue', edgecolor='black')\n",
    "plt.title('Penjualan A')\n",
    "plt.xlabel('Interval Jumlah Penjualan')\n",
    "plt.ylabel('Frekuensi')\n",
    "plt.xticks(interval_bins, rotation=45)\n",
    "\n",
    "plt.subplot(1,3,2)\n",
    "plt.hist(data['Penjualan B'], bins=interval_bins, color='lightgreen', edgecolor='black')\n",
    "plt.title('Penjualan B')\n",
    "plt.xlabel('Interval Jumlah Penjualan')\n",
    "plt.ylabel('Frekuensi')\n",
    "plt.xticks(interval_bins, rotation=45)\n",
    "\n",
    "plt.subplot(1,3,3)\n",
    "plt.hist(data['Curah Hujan'], bins=curah_hujan_bins, color='red', edgecolor='black')\n",
    "plt.title('Curah Hujan')\n",
    "plt.xlabel('Interval Curah Hujan')\n",
    "plt.ylabel('Frekuensi')\n",
    "plt.xticks(curah_hujan_bins, rotation=45)\n",
    "\n",
    "plt.tight_layout()\n",
    "plt.show()"
   ]
  },
  {
   "cell_type": "code",
   "execution_count": null,
   "metadata": {},
   "outputs": [],
   "source": [
    "histogram_values_curah_hujan=np.histogram(data['Curah Hujan'],bins=curah_hujan_bins)[0]\n",
    "histogram_values_penjualan_a=np.histogram(data['Penjualan A'],bins=interval_bins)[0]\n",
    "histogram_values_penjualan_b=np.histogram(data['Penjualan B'],bins=interval_bins)[0]\n",
    "\n",
    "titik_tengah_curah_hujan=(curah_hujan_bins[:-1] + curah_hujan_bins[1:]) / 2\n",
    "titik_tengah_penjualan=(np.array(interval_bins)[:-1] + np.array(interval_bins)[1:]) / 2\n",
    "\n",
    "plt.figure(figsize=(20, 10))\n",
    "\n",
    "plt.subplot(1, 3, 1)\n",
    "plt.plot(titik_tengah_curah_hujan,histogram_values_curah_hujan,marker='o',linestyle='-',color='b')\n",
    "plt.title('Histogram Poligon Curah Hujan Harian')\n",
    "plt.xlabel('Curah Hujan (mm)')\n",
    "plt.ylabel('Frekuensi')\n",
    "plt.grid(True)\n",
    "plt.xticks(rotation=45)\n",
    "\n",
    "plt.subplot(1, 3, 2)\n",
    "plt.plot(titik_tengah_penjualan,histogram_values_penjualan_a,marker='o',linestyle='-',color='g')\n",
    "plt.title('Histogram Poligon Penjualan A')\n",
    "plt.xlabel('Interval Jumlah Penjualan')\n",
    "plt.ylabel('Frekuensi')\n",
    "plt.grid(True)\n",
    "plt.xticks(interval_bins, rotation=45)\n",
    "\n",
    "plt.subplot(1, 3, 3)\n",
    "plt.plot(titik_tengah_penjualan,histogram_values_penjualan_b,marker='o',linestyle='-',color='r')\n",
    "plt.title('Histogram Poligon Penjualan B')\n",
    "plt.xlabel('Interval Jumlah Penjualan')\n",
    "plt.ylabel('Frekuensi')\n",
    "plt.grid(True)\n",
    "plt.xticks(interval_bins, rotation=45)\n",
    "\n",
    "plt.tight_layout()\n",
    "plt.show()"
   ]
  },
  {
   "cell_type": "markdown",
   "metadata": {},
   "source": [
    "#Boxplot\n",
    "___"
   ]
  },
  {
   "cell_type": "code",
   "execution_count": null,
   "metadata": {},
   "outputs": [],
   "source": [
    "plt.figure(figsize=(16, 8))\n",
    "\n",
    "plt.subplot(1, 2, 1)\n",
    "plt.boxplot(data['Curah Hujan'],labels=['Curah Hujan'])\n",
    "plt.title('Curah Hujan')\n",
    "plt.ylabel('Nilai')\n",
    "\n",
    "plt.subplot(1, 2, 2)\n",
    "plt.boxplot([data['Penjualan A'],data['Penjualan B']], labels=['Penjualan A', 'Penjualan B'])\n",
    "plt.title('Penjualan A dan Penjualan B')\n",
    "plt.ylabel('Nilai')\n",
    "\n",
    "plt.tight_layout()\n",
    "plt.show()"
   ]
  }
 ],
 "metadata": {
  "kernelspec": {
   "display_name": "Python 3",
   "language": "python",
   "name": "python3"
  },
  "language_info": {
   "codemirror_mode": {
    "name": "ipython",
    "version": 3
   },
   "file_extension": ".py",
   "mimetype": "text/x-python",
   "name": "python",
   "nbconvert_exporter": "python",
   "pygments_lexer": "ipython3",
   "version": "3.12.5"
  }
 },
 "nbformat": 4,
 "nbformat_minor": 2
}
